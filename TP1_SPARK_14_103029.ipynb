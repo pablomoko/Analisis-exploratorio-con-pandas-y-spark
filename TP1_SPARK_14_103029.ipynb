{
  "nbformat": 4,
  "nbformat_minor": 0,
  "metadata": {
    "colab": {
      "provenance": []
    },
    "kernelspec": {
      "name": "python3",
      "display_name": "Python 3"
    },
    "language_info": {
      "name": "python"
    }
  },
  "cells": [
    {
      "cell_type": "code",
      "source": [
        "!pip install pyspark\n",
        "!pip install -U -q PyDrive\n",
        "!apt install openjdk-8-jdk-headless -qq\n",
        "import os\n",
        "os.environ[\"JAVA_HOME\"] = \"/usr/lib/jvm/java-8-openjdk-amd64\""
      ],
      "metadata": {
        "id": "uEERvWu7kaxh",
        "colab": {
          "base_uri": "https://localhost:8080/"
        },
        "outputId": "00617b20-8326-4161-b525-8f362f10d69f"
      },
      "execution_count": null,
      "outputs": [
        {
          "output_type": "stream",
          "name": "stdout",
          "text": [
            "Requirement already satisfied: pyspark in /usr/local/lib/python3.10/dist-packages (3.5.0)\n",
            "Requirement already satisfied: py4j==0.10.9.7 in /usr/local/lib/python3.10/dist-packages (from pyspark) (0.10.9.7)\n",
            "openjdk-8-jdk-headless is already the newest version (8u382-ga-1~22.04.1).\n",
            "0 upgraded, 0 newly installed, 0 to remove and 18 not upgraded.\n"
          ]
        }
      ]
    },
    {
      "cell_type": "code",
      "source": [
        "# Librerias\n",
        "from pydrive.auth import GoogleAuth\n",
        "from pydrive.drive import GoogleDrive\n",
        "from google.colab import auth\n",
        "from oauth2client.client import GoogleCredentials\n",
        "from pyspark.sql import *\n",
        "from pyspark.sql.functions import *\n",
        "from pyspark import SparkContext\n",
        "from pyspark.sql import SQLContext\n",
        "import pandas as pd"
      ],
      "metadata": {
        "id": "DNtIcdVxkyEZ"
      },
      "execution_count": null,
      "outputs": []
    },
    {
      "cell_type": "code",
      "execution_count": null,
      "metadata": {
        "id": "A0fJESfpqWD0",
        "colab": {
          "base_uri": "https://localhost:8080/"
        },
        "outputId": "9c453047-f2af-4a46-97cf-32a6214b7fe6"
      },
      "outputs": [
        {
          "output_type": "stream",
          "name": "stdout",
          "text": [
            "Drive already mounted at /content/drive; to attempt to forcibly remount, call drive.mount(\"/content/drive\", force_remount=True).\n"
          ]
        }
      ],
      "source": [
        "# Carga de datos\n",
        "from google.colab import drive\n",
        "drive.mount(\"/content/drive\")\n",
        "file_path = \"/content/drive/MyDrive/TP 1 - ORGANIZACIÓN DE DATOS/googleplaystore.csv\"\n",
        "reviews_file_path = \"/content/drive/MyDrive/TP 1 - ORGANIZACIÓN DE DATOS/googleplaystore_user_reviews.csv\"\n"
      ]
    },
    {
      "cell_type": "code",
      "source": [
        "# create the Spark Session\n",
        "spark = SparkSession.builder.getOrCreate()\n",
        "\n",
        "# create the Spark Context\n",
        "sc = spark.sparkContext"
      ],
      "metadata": {
        "id": "1C7Wodm7lcof"
      },
      "execution_count": null,
      "outputs": []
    },
    {
      "cell_type": "code",
      "source": [
        "sqlContext = SQLContext(sc)\n",
        "google_play_data = sqlContext.read.option(\"delimiter\", \",\").option(\"escape\", '\"').csv(file_path, header=True, inferSchema=True)\n",
        "user_reviews_data = sqlContext.read.option(\"delimiter\", \",\").option(\"escape\", '\"').csv(reviews_file_path, header=True, inferSchema=True)\n",
        "google_play_data = google_play_data.rdd\n",
        "user_reviews_data = user_reviews_data.rdd\n",
        "# Filtra las filas en las que la categoría no sea \"1.9\" y crea un nuevo RDD sin esa fila\n",
        "google_play_data = google_play_data.filter(lambda x: x['Category'] != \"1.9\")\n"
      ],
      "metadata": {
        "id": "K7lNllUvlqBg"
      },
      "execution_count": null,
      "outputs": []
    },
    {
      "cell_type": "markdown",
      "source": [
        "# 14 - ¿Cuál es la aplicación gratis con mayor ratio de reviews positivas? (⭐⭐)\n"
      ],
      "metadata": {
        "id": "OkHyZDASDhWe"
      }
    },
    {
      "cell_type": "markdown",
      "source": [
        "Filtrar las aplicaciones gratuitas"
      ],
      "metadata": {
        "id": "RBbYIYDaDnF4"
      }
    },
    {
      "cell_type": "code",
      "source": [
        "free_apps_rdd = google_play_data.filter(lambda x: x['Type'] == 'Free')"
      ],
      "metadata": {
        "id": "JsWOVjWuDiEl"
      },
      "execution_count": null,
      "outputs": []
    },
    {
      "cell_type": "markdown",
      "source": [
        "Filtrar las reseñas 'nan'"
      ],
      "metadata": {
        "id": "Cm2uSbwrDiKx"
      }
    },
    {
      "cell_type": "code",
      "source": [
        "filter_user_reviews_data = user_reviews_data.filter(lambda x: str(x['Sentiment']) != 'nan')\n"
      ],
      "metadata": {
        "id": "UOVmDHG0DiSG"
      },
      "execution_count": null,
      "outputs": []
    },
    {
      "cell_type": "markdown",
      "source": [
        "Cantidad de reseñas por app"
      ],
      "metadata": {
        "id": "gilt_oD8Diec"
      }
    },
    {
      "cell_type": "code",
      "source": [
        "reviews_count_per_app = filter_user_reviews_data.map(lambda x: (x['App'], 1)).reduceByKey(lambda x, y: x + y)"
      ],
      "metadata": {
        "id": "9Z2EgZnPDioJ"
      },
      "execution_count": null,
      "outputs": []
    },
    {
      "cell_type": "markdown",
      "source": [
        "Cantidad de reseñas positivas por app"
      ],
      "metadata": {
        "id": "5_1l0w_XDiuv"
      }
    },
    {
      "cell_type": "code",
      "source": [
        "positive_reviews_count_per_app = filter_user_reviews_data.filter(lambda x: (x['Sentiment'] == 'Positive')).map(lambda x: (x['App'], 1)).reduceByKey(lambda x, y: x + y)\n"
      ],
      "metadata": {
        "id": "qZ32ijFZDiyz"
      },
      "execution_count": null,
      "outputs": []
    },
    {
      "cell_type": "markdown",
      "source": [
        "Calcular el ratio de reseñas positivas por aplicación"
      ],
      "metadata": {
        "id": "CA2Bx5_rEgiZ"
      }
    },
    {
      "cell_type": "code",
      "source": [
        "ratio_reviews_per_app = positive_reviews_count_per_app.join(reviews_count_per_app).map(lambda x: (x[0], x[1][0] / x[1][1] ))\n"
      ],
      "metadata": {
        "id": "lHAcCnQcEgrW"
      },
      "execution_count": null,
      "outputs": []
    },
    {
      "cell_type": "markdown",
      "source": [
        "Encontrar la app con mayor ratio de reviews positivas"
      ],
      "metadata": {
        "id": "Yxcpk-EEEgyn"
      }
    },
    {
      "cell_type": "code",
      "source": [
        "ratio_reviews_per_app.reduce(lambda x, y: x if x[1] > y[1] else y)"
      ],
      "metadata": {
        "id": "mRb9DZy4Eg6M",
        "colab": {
          "base_uri": "https://localhost:8080/"
        },
        "outputId": "96cba7ba-0374-4e61-cb38-2801ca49ada8"
      },
      "execution_count": null,
      "outputs": [
        {
          "output_type": "execute_result",
          "data": {
            "text/plain": [
              "('Home workouts - fat burning, abs, legs, arms,chest', 1.0)"
            ]
          },
          "metadata": {},
          "execution_count": 16
        }
      ]
    },
    {
      "cell_type": "markdown",
      "source": [
        "#Como hay varias aplicaciones con ratio 1 (ratio maximo), propongo como solucion mostrar todas las apps que contengan el ratio maximo(sin hardcodear que el ratio maximo sea 1)\n"
      ],
      "metadata": {
        "id": "ViX1eYhyEmOR"
      }
    },
    {
      "cell_type": "markdown",
      "source": [
        "Encontrar el máximo valor de ratio"
      ],
      "metadata": {
        "id": "P1DikKRNGPMT"
      }
    },
    {
      "cell_type": "code",
      "source": [
        "max_ratio_value = ratio_reviews_per_app.map(lambda x: x[1]).reduce(lambda x, y: x if x > y else y)"
      ],
      "metadata": {
        "id": "AmaP1msZEnao"
      },
      "execution_count": null,
      "outputs": []
    },
    {
      "cell_type": "markdown",
      "source": [
        "Filtrar las aplicaciones con el máximo valor de ratio"
      ],
      "metadata": {
        "id": "1CevEokvGRRP"
      }
    },
    {
      "cell_type": "code",
      "source": [
        "apps_with_max_ratio = ratio_reviews_per_app.filter(lambda x: x[1] == max_ratio_value)"
      ],
      "metadata": {
        "id": "SRXqGEgGD5Bg"
      },
      "execution_count": null,
      "outputs": []
    },
    {
      "cell_type": "code",
      "source": [
        "apps_with_max_ratio.collect()"
      ],
      "metadata": {
        "colab": {
          "base_uri": "https://localhost:8080/"
        },
        "id": "Km0JB1tcGVUL",
        "outputId": "1d2bd75d-1d00-474d-c101-edcb199064ae"
      },
      "execution_count": null,
      "outputs": [
        {
          "output_type": "execute_result",
          "data": {
            "text/plain": [
              "[('3D Live Neon Weed Launcher', 1.0),\n",
              " ('Apartment Decorating Ideas', 1.0),\n",
              " ('Baby Panda’s Juice Shop', 1.0),\n",
              " ('Best Fiends - Free Puzzle Game', 1.0),\n",
              " ('CM Flashlight (Compass, SOS)', 1.0),\n",
              " ('Calculator Plus Free', 1.0),\n",
              " ('Caller ID +', 1.0),\n",
              " ('Daily Workouts - Exercise Fitness Routine Trainer', 1.0),\n",
              " ('DashClock Widget', 1.0),\n",
              " ('Down Dog: Great Yoga Anywhere', 1.0),\n",
              " ('Draw a Stickman: EPIC 2', 1.0),\n",
              " ('FlipaClip - Cartoon animation', 1.0),\n",
              " ('GPS Speedometer and Odometer', 1.0),\n",
              " ('Google Primer', 1.0),\n",
              " ('Google Translate', 1.0),\n",
              " ('Google+', 1.0),\n",
              " ('HomeWork', 1.0),\n",
              " ('7 Day Food Journal Challenge', 1.0),\n",
              " ('All-in-One Mahjong 3 FREE', 1.0),\n",
              " ('Amazon Prime Video', 1.0),\n",
              " ('Bed Time Fan - White Noise Sleep Sounds', 1.0),\n",
              " ('Best Ovulation Tracker Fertility Calendar App Glow', 1.0),\n",
              " ('Brightest Flashlight Free ®', 1.0),\n",
              " ('Caf - Mon Compte', 1.0),\n",
              " ('Calculator - unit converter', 1.0),\n",
              " ('Calendar+ Schedule Planner App', 1.0),\n",
              " ('CallApp: Caller ID, Blocker & Phone Call Recorder', 1.0),\n",
              " ('Couple - Relationship App', 1.0),\n",
              " ('Daniel Tiger for Parents', 1.0),\n",
              " ('Drawing for Kids Learning Games for Toddlers age 3', 1.0),\n",
              " ('GPS Map Free', 1.0),\n",
              " ('Google Slides', 1.0),\n",
              " ('Google Trips - Travel Planner', 1.0),\n",
              " ('Home workouts - fat burning, abs, legs, arms,chest', 1.0)]"
            ]
          },
          "metadata": {},
          "execution_count": 19
        }
      ]
    }
  ]
}