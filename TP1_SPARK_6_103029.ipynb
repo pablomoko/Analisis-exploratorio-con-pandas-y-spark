{
  "nbformat": 4,
  "nbformat_minor": 0,
  "metadata": {
    "colab": {
      "provenance": []
    },
    "kernelspec": {
      "name": "python3",
      "display_name": "Python 3"
    },
    "language_info": {
      "name": "python"
    }
  },
  "cells": [
    {
      "cell_type": "code",
      "source": [
        "!pip install pyspark\n",
        "!pip install -U -q PyDrive\n",
        "!apt install openjdk-8-jdk-headless -qq\n",
        "import os\n",
        "os.environ[\"JAVA_HOME\"] = \"/usr/lib/jvm/java-8-openjdk-amd64\""
      ],
      "metadata": {
        "id": "uEERvWu7kaxh",
        "colab": {
          "base_uri": "https://localhost:8080/"
        },
        "outputId": "0ee72520-853f-46f4-b576-b6d126fc8c1c"
      },
      "execution_count": null,
      "outputs": [
        {
          "output_type": "stream",
          "name": "stdout",
          "text": [
            "Requirement already satisfied: pyspark in /usr/local/lib/python3.10/dist-packages (3.5.0)\n",
            "Requirement already satisfied: py4j==0.10.9.7 in /usr/local/lib/python3.10/dist-packages (from pyspark) (0.10.9.7)\n",
            "openjdk-8-jdk-headless is already the newest version (8u382-ga-1~22.04.1).\n",
            "0 upgraded, 0 newly installed, 0 to remove and 18 not upgraded.\n"
          ]
        }
      ]
    },
    {
      "cell_type": "code",
      "source": [
        "# Librerias\n",
        "from pydrive.auth import GoogleAuth\n",
        "from pydrive.drive import GoogleDrive\n",
        "from google.colab import auth\n",
        "from oauth2client.client import GoogleCredentials\n",
        "from pyspark.sql import *\n",
        "from pyspark.sql.functions import *\n",
        "from pyspark import SparkContext\n",
        "from pyspark.sql import SQLContext\n",
        "import pandas as pd"
      ],
      "metadata": {
        "id": "DNtIcdVxkyEZ"
      },
      "execution_count": null,
      "outputs": []
    },
    {
      "cell_type": "code",
      "execution_count": null,
      "metadata": {
        "id": "A0fJESfpqWD0",
        "colab": {
          "base_uri": "https://localhost:8080/"
        },
        "outputId": "f2bd5269-3b18-4f7a-8d80-6c6598f18c0e"
      },
      "outputs": [
        {
          "output_type": "stream",
          "name": "stdout",
          "text": [
            "Drive already mounted at /content/drive; to attempt to forcibly remount, call drive.mount(\"/content/drive\", force_remount=True).\n"
          ]
        }
      ],
      "source": [
        "# Carga de datos\n",
        "from google.colab import drive\n",
        "drive.mount(\"/content/drive\")\n",
        "file_path = \"/content/drive/MyDrive/TP 1 - ORGANIZACIÓN DE DATOS/googleplaystore.csv\"\n",
        "reviews_file_path = \"/content/drive/MyDrive/TP 1 - ORGANIZACIÓN DE DATOS/googleplaystore_user_reviews.csv\"\n"
      ]
    },
    {
      "cell_type": "code",
      "source": [
        "# create the Spark Session\n",
        "spark = SparkSession.builder.getOrCreate()\n",
        "\n",
        "# create the Spark Context\n",
        "sc = spark.sparkContext"
      ],
      "metadata": {
        "id": "1C7Wodm7lcof"
      },
      "execution_count": null,
      "outputs": []
    },
    {
      "cell_type": "code",
      "source": [
        "sqlContext = SQLContext(sc)\n",
        "google_play_data = sqlContext.read.option(\"delimiter\", \",\").option(\"escape\", '\"').csv(file_path, header=True, inferSchema=True)\n",
        "user_reviews_data = sqlContext.read.option(\"delimiter\", \",\").option(\"escape\", '\"').csv(reviews_file_path, header=True, inferSchema=True)\n",
        "google_play_data = google_play_data.rdd\n",
        "user_reviews_data = user_reviews_data.rdd\n",
        "# Filtra las filas en las que la categoría no sea \"1.9\" y crea un nuevo RDD sin esa fila\n",
        "google_play_data = google_play_data.filter(lambda x: x['Category'] != \"1.9\")\n"
      ],
      "metadata": {
        "id": "K7lNllUvlqBg"
      },
      "execution_count": null,
      "outputs": []
    },
    {
      "cell_type": "markdown",
      "source": [
        "# 6 - Queremos saber cuánto pesaría si quisiéramos bajar todas las apps de un género, para todos los géneros.Para eso se pide: Calcular separado por géneros, cuanto pesarian todas las apps que tienen ese género (Tener en cuenta que si una app tiene acción y arte, su peso cuenta para ambos géneros) (⭐⭐)"
      ],
      "metadata": {
        "id": "OkHyZDASDhWe"
      }
    },
    {
      "cell_type": "markdown",
      "source": [
        "Filtrar las aplicaciones que tienen \"Varies with device\" en la columna \"Size\""
      ],
      "metadata": {
        "id": "RBbYIYDaDnF4"
      }
    },
    {
      "cell_type": "code",
      "source": [
        "filtered_data = google_play_data.filter(lambda x: x['Size'] != 'Varies with device' and str(x['Size'] != 'nan') )"
      ],
      "metadata": {
        "id": "JsWOVjWuDiEl"
      },
      "execution_count": null,
      "outputs": []
    },
    {
      "cell_type": "markdown",
      "source": [
        "Filtrar el RDD para obtener solo las columnas 'Genres' y 'Size'"
      ],
      "metadata": {
        "id": "Cm2uSbwrDiKx"
      }
    },
    {
      "cell_type": "code",
      "source": [
        "genres_and_sizes = filtered_data.map(lambda x: (x['Genres'], x['Size']))"
      ],
      "metadata": {
        "id": "UOVmDHG0DiSG"
      },
      "execution_count": null,
      "outputs": []
    },
    {
      "cell_type": "markdown",
      "source": [
        "Separar las aplicaciones por sus generos"
      ],
      "metadata": {
        "id": "gilt_oD8Diec"
      }
    },
    {
      "cell_type": "code",
      "source": [
        "genre_sizes = genres_and_sizes.flatMap(lambda x: [(genre.strip(), x[1]) for genre in x[0].split(';')])"
      ],
      "metadata": {
        "id": "9Z2EgZnPDioJ"
      },
      "execution_count": null,
      "outputs": []
    },
    {
      "cell_type": "markdown",
      "source": [
        "Función para convertir tamaños en KB y MB a MB"
      ],
      "metadata": {
        "id": "5_1l0w_XDiuv"
      }
    },
    {
      "cell_type": "code",
      "source": [
        "def convert_size_to_mb(size):\n",
        "    if 'M' in size:\n",
        "        return float(size.replace('M', ''))\n",
        "    elif 'k' in size:\n",
        "        return float(size.replace('k', '')) / 1024  # Convertir KB a MB\n",
        "    else:\n",
        "        return None  # En caso de valores desconocidos"
      ],
      "metadata": {
        "id": "qZ32ijFZDiyz"
      },
      "execution_count": null,
      "outputs": []
    },
    {
      "cell_type": "markdown",
      "source": [
        "Convertir el tamaño de las aplicaciones a un formato numérico en MB"
      ],
      "metadata": {
        "id": "CA2Bx5_rEgiZ"
      }
    },
    {
      "cell_type": "code",
      "source": [
        "genre_sizes = genre_sizes.map(lambda x: (x[0], convert_size_to_mb(x[1])))"
      ],
      "metadata": {
        "id": "lHAcCnQcEgrW"
      },
      "execution_count": null,
      "outputs": []
    },
    {
      "cell_type": "markdown",
      "source": [
        "Calcular el tamaño total de las aplicaciones para cada género"
      ],
      "metadata": {
        "id": "Yxcpk-EEEgyn"
      }
    },
    {
      "cell_type": "code",
      "source": [
        "total_sizes_by_genre = genre_sizes.reduceByKey(lambda x, y: x + y )"
      ],
      "metadata": {
        "id": "mRb9DZy4Eg6M"
      },
      "execution_count": null,
      "outputs": []
    },
    {
      "cell_type": "markdown",
      "source": [
        "El tamaño se va a mostrar en Mb"
      ],
      "metadata": {
        "id": "MMsgcn-VI10b"
      }
    },
    {
      "cell_type": "code",
      "source": [
        "total_sizes_by_genre.collect()"
      ],
      "metadata": {
        "colab": {
          "base_uri": "https://localhost:8080/"
        },
        "id": "RXnWB7phHgFU",
        "outputId": "efd6e985-da2a-4e80-bf1b-0574c489a59c"
      },
      "execution_count": null,
      "outputs": [
        {
          "output_type": "execute_result",
          "data": {
            "text/plain": [
              "[('Art & Design', 812.0000000000002),\n",
              " ('Pretend Play', 4082.2000000000003),\n",
              " ('Creativity', 1236.9),\n",
              " ('Action & Adventure', 5757.099999999999),\n",
              " ('Auto & Vehicles', 1502.760546875),\n",
              " ('Beauty', 648.4000000000001),\n",
              " ('Books & Reference', 2740.10703125),\n",
              " ('Business', 5788.750976562499),\n",
              " ('Comics', 687.7283203125002),\n",
              " ('Communication', 3117.9033203124995),\n",
              " ('Dating', 3524.6175781250017),\n",
              " ('Education', 14758.330273437494),\n",
              " ('Brain Games', 1967.6999999999998),\n",
              " ('Entertainment', 9057.689843750006),\n",
              " ('Music & Video', 865.3000000000001),\n",
              " ('Events', 795.9261718749999),\n",
              " ('Finance', 5503.991015624996),\n",
              " ('Food & Drink', 2218.5),\n",
              " ('Health & Fitness', 6148.976562500001),\n",
              " ('House & Home', 1086.5406249999999),\n",
              " ('Libraries & Demo', 908.50693359375),\n",
              " ('Lifestyle', 5090.168359375),\n",
              " ('Adventure', 3411.4),\n",
              " ('Arcade', 8858.800000000001),\n",
              " ('Casual', 8482.000000000004),\n",
              " ('Card', 1348.51328125),\n",
              " ('Strategy', 5258.900000000001),\n",
              " ('Action', 17347.3279296875),\n",
              " ('Puzzle', 5307.604296875001),\n",
              " ('Sports', 8652.373632812503),\n",
              " ('Word', 893.0),\n",
              " ('Racing', 5159.9),\n",
              " ('Simulation', 9252.5),\n",
              " ('Board', 1450.7748046874997),\n",
              " ('Trivia', 806.7),\n",
              " ('Role Playing', 5816.514257812501),\n",
              " ('Educational', 4931.668554687501),\n",
              " ('Music', 791.8),\n",
              " ('Music & Audio', 9.8),\n",
              " ('Video Players & Editors', 2149.0617187499997),\n",
              " ('Medical', 8518.749804687499),\n",
              " ('Social', 3713.1509765625005),\n",
              " ('Shopping', 3251.1869140625004),\n",
              " ('Photography', 4411.3638671875),\n",
              " ('Travel & Local', 4733.656835937498),\n",
              " ('Tools', 6481.277734375003),\n",
              " ('Personalization', 4010.5818359375035),\n",
              " ('Productivity', 3933.2080078124995),\n",
              " ('Parenting', 1215.6999999999998),\n",
              " ('Weather', 748.0683593750002),\n",
              " ('News & Magazines', 2813.100781250002),\n",
              " ('Maps & Navigation', 1794.3517578125002),\n",
              " ('Casino', 1059.7)]"
            ]
          },
          "metadata": {},
          "execution_count": 24
        }
      ]
    }
  ]
}