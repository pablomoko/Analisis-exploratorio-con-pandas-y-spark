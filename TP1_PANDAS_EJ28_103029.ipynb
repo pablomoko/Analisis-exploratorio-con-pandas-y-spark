{
  "nbformat": 4,
  "nbformat_minor": 0,
  "metadata": {
    "colab": {
      "provenance": []
    },
    "kernelspec": {
      "name": "python3",
      "display_name": "Python 3"
    },
    "language_info": {
      "name": "python"
    }
  },
  "cells": [
    {
      "cell_type": "code",
      "execution_count": null,
      "metadata": {
        "colab": {
          "base_uri": "https://localhost:8080/"
        },
        "id": "FeA1B1H18VTD",
        "outputId": "973679da-e93e-45b1-c1ab-45a5b17e2106"
      },
      "outputs": [
        {
          "output_type": "stream",
          "name": "stdout",
          "text": [
            "Mounted at /content/drive\n"
          ]
        }
      ],
      "source": [
        "# Librerias\n",
        "import pandas as pd\n",
        "import matplotlib.pyplot as plt\n",
        "import seaborn as sns\n",
        "import seaborn as sns\n",
        "\n",
        "# Carga de datos\n",
        "from google.colab import drive\n",
        "drive.mount(\"/content/drive\")\n",
        "file_path = \"/content/drive/MyDrive/TP 1 - ORGANIZACIÓN DE DATOS/googleplaystore.csv\"\n",
        "google_play_data = pd.read_csv(file_path).drop(10472) #elimino fila 10472, ya que tiene una categoria no existente ('1.9')\n",
        "reviews_file_path = \"/content/drive/MyDrive/TP 1 - ORGANIZACIÓN DE DATOS/googleplaystore_user_reviews.csv\"\n",
        "user_reviews_data = pd.read_csv(reviews_file_path)"
      ]
    },
    {
      "cell_type": "markdown",
      "source": [
        "# 28 - Calcule el tamaño promedio de las aplicaciones por versión de Android, sin tener en cuenta las aplicaciones que varían en tamaño según dispositivo. (⭐⭐)\n"
      ],
      "metadata": {
        "id": "R6xtyFDE8nd9"
      }
    },
    {
      "cell_type": "markdown",
      "source": [
        "Filtrar las aplicaciones que no varían en tamaño según el dispositivo\n",
        "\n",
        "\n",
        "\n"
      ],
      "metadata": {
        "id": "1BDDxdZF8ziJ"
      }
    },
    {
      "cell_type": "code",
      "source": [
        "filtered_apps = google_play_data[google_play_data['Size'] != 'Varies with device']"
      ],
      "metadata": {
        "id": "_eteLj8H8ZYL"
      },
      "execution_count": null,
      "outputs": []
    },
    {
      "cell_type": "markdown",
      "source": [
        "Función para convertir tamaños en KB y MB a MB"
      ],
      "metadata": {
        "id": "hzBsYTkc85ON"
      }
    },
    {
      "cell_type": "code",
      "source": [
        "def convert_size_to_mb(size):\n",
        "    if 'M' in size:\n",
        "        return float(size.replace('M', ''))\n",
        "    elif 'k' in size:\n",
        "        return float(size.replace('k', '')) / 1024  # Convertir KB a MB\n",
        "    else:\n",
        "        return None  # En caso de valores desconocidos"
      ],
      "metadata": {
        "id": "imAbIxGu8Zg1"
      },
      "execution_count": null,
      "outputs": []
    },
    {
      "cell_type": "markdown",
      "source": [
        "Filtrar las aplicaciones que no varían en tamaño según el dispositivo"
      ],
      "metadata": {
        "id": "2tUKZzmR9EeU"
      }
    },
    {
      "cell_type": "code",
      "source": [
        "filtered_apps = google_play_data[google_play_data['Size'].notna()]"
      ],
      "metadata": {
        "id": "WzVTOBqH8tyk"
      },
      "execution_count": null,
      "outputs": []
    },
    {
      "cell_type": "markdown",
      "source": [
        "Aplicar la función de conversión a la columna 'Size'"
      ],
      "metadata": {
        "id": "iGH5uZg6_UCF"
      }
    },
    {
      "cell_type": "code",
      "source": [
        "filtered_apps['Size'] = filtered_apps['Size'].map(convert_size_to_mb)"
      ],
      "metadata": {
        "id": "3gB9cBoC-Tg3"
      },
      "execution_count": null,
      "outputs": []
    },
    {
      "cell_type": "markdown",
      "source": [
        "Agrupar por 'Android Ver' y calcular el promedio del tamaño"
      ],
      "metadata": {
        "id": "-ajfghtr_VAV"
      }
    },
    {
      "cell_type": "code",
      "source": [
        "average_size_by_android_ver = filtered_apps.groupby('Android Ver')['Size'].mean()"
      ],
      "metadata": {
        "id": "il5bslSk_Wli"
      },
      "execution_count": null,
      "outputs": []
    },
    {
      "cell_type": "markdown",
      "source": [
        "El promedio del tamañno de cada app se mostrar en MB"
      ],
      "metadata": {
        "id": "IfkQetys_XCa"
      }
    },
    {
      "cell_type": "code",
      "source": [
        "average_size_by_android_ver"
      ],
      "metadata": {
        "id": "O7UAnHcU_ZWX",
        "colab": {
          "base_uri": "https://localhost:8080/"
        },
        "outputId": "a9bee0a0-4ca7-472f-c70a-4875ed7135e7"
      },
      "execution_count": null,
      "outputs": [
        {
          "output_type": "execute_result",
          "data": {
            "text/plain": [
              "Android Ver\n",
              "1.0 and up             3.845996\n",
              "1.5 and up             5.069829\n",
              "1.6 and up             3.114648\n",
              "2.0 and up             6.254039\n",
              "2.0.1 and up          22.219950\n",
              "2.1 and up             5.602711\n",
              "2.2 - 7.1.1            5.100000\n",
              "2.2 and up             8.497129\n",
              "2.3 and up            20.809628\n",
              "2.3.3 and up          19.220862\n",
              "3.0 and up            14.698788\n",
              "3.1 and up            13.413008\n",
              "3.2 and up             9.860455\n",
              "4.0 and up            17.104562\n",
              "4.0.3 - 7.1.1          6.600000\n",
              "4.0.3 and up          22.081375\n",
              "4.1 - 7.1.1            7.900000\n",
              "4.1 and up            26.026662\n",
              "4.2 and up            22.139803\n",
              "4.3 and up            22.603179\n",
              "4.4 and up            25.819234\n",
              "4.4W and up           13.100000\n",
              "5.0 - 6.0             11.000000\n",
              "5.0 - 7.1.1            8.400000\n",
              "5.0 - 8.0             23.800000\n",
              "5.0 and up            24.666235\n",
              "5.1 and up            23.621985\n",
              "6.0 and up            22.507024\n",
              "7.0 - 7.1.1            7.100000\n",
              "7.0 and up            24.314131\n",
              "7.1 and up            32.004150\n",
              "8.0 and up            20.083333\n",
              "Varies with device    21.143101\n",
              "Name: Size, dtype: float64"
            ]
          },
          "metadata": {},
          "execution_count": 7
        }
      ]
    }
  ]
}