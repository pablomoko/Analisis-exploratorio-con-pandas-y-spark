{
  "nbformat": 4,
  "nbformat_minor": 0,
  "metadata": {
    "colab": {
      "provenance": []
    },
    "kernelspec": {
      "name": "python3",
      "display_name": "Python 3"
    },
    "language_info": {
      "name": "python"
    }
  },
  "cells": [
    {
      "cell_type": "code",
      "execution_count": null,
      "metadata": {
        "colab": {
          "base_uri": "https://localhost:8080/"
        },
        "id": "FeA1B1H18VTD",
        "outputId": "4c3d4d87-3424-430f-8f51-bdb4e2af4314"
      },
      "outputs": [
        {
          "output_type": "stream",
          "name": "stdout",
          "text": [
            "Drive already mounted at /content/drive; to attempt to forcibly remount, call drive.mount(\"/content/drive\", force_remount=True).\n"
          ]
        }
      ],
      "source": [
        "# Librerias\n",
        "import pandas as pd\n",
        "import matplotlib.pyplot as plt\n",
        "import seaborn as sns\n",
        "import seaborn as sns\n",
        "\n",
        "# Carga de datos\n",
        "from google.colab import drive\n",
        "drive.mount(\"/content/drive\")\n",
        "file_path = \"/content/drive/MyDrive/TP 1 - ORGANIZACIÓN DE DATOS/googleplaystore.csv\"\n",
        "google_play_data = pd.read_csv(file_path).drop(10472) #elimino fila 10472, ya que tiene una categoria no existente ('1.9')\n",
        "reviews_file_path = \"/content/drive/MyDrive/TP 1 - ORGANIZACIÓN DE DATOS/googleplaystore_user_reviews.csv\"\n",
        "user_reviews_data = pd.read_csv(reviews_file_path)"
      ]
    },
    {
      "cell_type": "markdown",
      "source": [
        "# 16 - Para el rating promedio de cada categoría que no sea 1.9, ¿Cuáles son los 5 promedios más comunes? (⭐)\n"
      ],
      "metadata": {
        "id": "R6xtyFDE8nd9"
      }
    },
    {
      "cell_type": "markdown",
      "source": [
        "Filtrar las aplicaciones que no tienen una calificación promedio de 1.9 (ya se hizo en la carga de datos)\n",
        "\n",
        "\n"
      ],
      "metadata": {
        "id": "1BDDxdZF8ziJ"
      }
    },
    {
      "cell_type": "code",
      "source": [
        "filtered_data = google_play_data[google_play_data['Rating'] != 1.9]"
      ],
      "metadata": {
        "id": "_eteLj8H8ZYL"
      },
      "execution_count": null,
      "outputs": []
    },
    {
      "cell_type": "markdown",
      "source": [
        "Agrupar por la columna 'Category' y calcular el promedio de calificación"
      ],
      "metadata": {
        "id": "hzBsYTkc85ON"
      }
    },
    {
      "cell_type": "code",
      "source": [
        "category_avg_ratings = filtered_data.groupby('Category')['Rating'].mean()"
      ],
      "metadata": {
        "id": "imAbIxGu8Zg1"
      },
      "execution_count": null,
      "outputs": []
    },
    {
      "cell_type": "markdown",
      "source": [
        "Encontrar los 5 promedios más comunes (los 5 más frecuentes)"
      ],
      "metadata": {
        "id": "2tUKZzmR9EeU"
      }
    },
    {
      "cell_type": "code",
      "source": [
        "top_5_common_avg_ratings = category_avg_ratings.value_counts().head(5)"
      ],
      "metadata": {
        "id": "WzVTOBqH8tyk"
      },
      "execution_count": null,
      "outputs": []
    },
    {
      "cell_type": "code",
      "source": [
        "top_5_common_avg_ratings"
      ],
      "metadata": {
        "colab": {
          "base_uri": "https://localhost:8080/"
        },
        "id": "3gB9cBoC-Tg3",
        "outputId": "fd883c0b-3d0d-4b48-de79-99636a8fc65a"
      },
      "execution_count": null,
      "outputs": [
        {
          "output_type": "execute_result",
          "data": {
            "text/plain": [
              "4.358065    1\n",
              "4.178462    1\n",
              "4.077358    1\n",
              "4.109292    1\n",
              "4.053279    1\n",
              "Name: Rating, dtype: int64"
            ]
          },
          "metadata": {},
          "execution_count": 10
        }
      ]
    }
  ]
}