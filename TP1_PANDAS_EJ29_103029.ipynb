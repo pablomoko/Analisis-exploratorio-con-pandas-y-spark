{
  "nbformat": 4,
  "nbformat_minor": 0,
  "metadata": {
    "colab": {
      "provenance": []
    },
    "kernelspec": {
      "name": "python3",
      "display_name": "Python 3"
    },
    "language_info": {
      "name": "python"
    }
  },
  "cells": [
    {
      "cell_type": "code",
      "execution_count": null,
      "metadata": {
        "colab": {
          "base_uri": "https://localhost:8080/"
        },
        "id": "FeA1B1H18VTD",
        "outputId": "45fb4b1c-06e2-4b60-be82-836a4fc9a15e"
      },
      "outputs": [
        {
          "output_type": "stream",
          "name": "stdout",
          "text": [
            "Mounted at /content/drive\n"
          ]
        }
      ],
      "source": [
        "# Librerias\n",
        "import pandas as pd\n",
        "import matplotlib.pyplot as plt\n",
        "import seaborn as sns\n",
        "import seaborn as sns\n",
        "\n",
        "# Carga de datos\n",
        "from google.colab import drive\n",
        "drive.mount(\"/content/drive\")\n",
        "file_path = \"/content/drive/MyDrive/TP 1 - ORGANIZACIÓN DE DATOS/googleplaystore.csv\"\n",
        "google_play_data = pd.read_csv(file_path).drop(10472) #elimino fila 10472, ya que tiene una categoria no existente ('1.9')\n",
        "reviews_file_path = \"/content/drive/MyDrive/TP 1 - ORGANIZACIÓN DE DATOS/googleplaystore_user_reviews.csv\"\n",
        "user_reviews_data = pd.read_csv(reviews_file_path)"
      ]
    },
    {
      "cell_type": "markdown",
      "source": [
        "# 29 - Calcular a que cuantil de reviews pertenece cada app y ordenar de forma descendente todas las categorías segun las descargas de las apps separadas en cada cuantil. (⭐⭐)\n"
      ],
      "metadata": {
        "id": "R6xtyFDE8nd9"
      }
    },
    {
      "cell_type": "markdown",
      "source": [
        "Eliminar las filas con valores nulos en la columna 'Reviews'\n",
        "\n",
        "\n"
      ],
      "metadata": {
        "id": "1BDDxdZF8ziJ"
      }
    },
    {
      "cell_type": "code",
      "source": [
        "google_play_data_cleaned = google_play_data.dropna(subset=['Reviews'])"
      ],
      "metadata": {
        "id": "_eteLj8H8ZYL"
      },
      "execution_count": null,
      "outputs": []
    },
    {
      "cell_type": "markdown",
      "source": [
        "Convertir la columna 'Reviews' en tipo numérico por si algunos datos están mal ingresados."
      ],
      "metadata": {
        "id": "hzBsYTkc85ON"
      }
    },
    {
      "cell_type": "code",
      "source": [
        "google_play_data_cleaned['Reviews'] = pd.to_numeric(google_play_data_cleaned['Reviews'], errors='coerce')"
      ],
      "metadata": {
        "id": "imAbIxGu8Zg1"
      },
      "execution_count": null,
      "outputs": []
    },
    {
      "cell_type": "markdown",
      "source": [
        "Calcular los cuantiles para las revisiones"
      ],
      "metadata": {
        "id": "2tUKZzmR9EeU"
      }
    },
    {
      "cell_type": "code",
      "source": [
        "quantiles = [0, 0.25, 0.5, 0.75, 1.0]  # Definir los cuantiles (0%, 25%, 50%, 75%, 100%)\n",
        "reviews_quantiles = google_play_data_cleaned['Reviews'].quantile(quantiles)"
      ],
      "metadata": {
        "id": "WzVTOBqH8tyk"
      },
      "execution_count": null,
      "outputs": []
    },
    {
      "cell_type": "markdown",
      "source": [
        "Crear una función para asignar un cuantil a cada revisión"
      ],
      "metadata": {
        "id": "iGH5uZg6_UCF"
      }
    },
    {
      "cell_type": "code",
      "source": [
        "def assign_quantile(reviews):\n",
        "    if reviews <= reviews_quantiles[0.25]:\n",
        "        return 'Q1'\n",
        "    elif reviews <= reviews_quantiles[0.5]:\n",
        "        return 'Q2'\n",
        "    elif reviews <= reviews_quantiles[0.75]:\n",
        "        return 'Q3'\n",
        "    else:\n",
        "        return 'Q4'"
      ],
      "metadata": {
        "id": "3gB9cBoC-Tg3"
      },
      "execution_count": null,
      "outputs": []
    },
    {
      "cell_type": "markdown",
      "source": [
        "Aplicar la función para crear una nueva columna 'Quantile' en el DataFrame google_play_data_cleaned"
      ],
      "metadata": {
        "id": "-ajfghtr_VAV"
      }
    },
    {
      "cell_type": "code",
      "source": [
        "google_play_data_cleaned['Quantile'] = google_play_data_cleaned['Reviews'].map(assign_quantile)\n"
      ],
      "metadata": {
        "id": "il5bslSk_Wli"
      },
      "execution_count": null,
      "outputs": []
    },
    {
      "cell_type": "markdown",
      "source": [
        "Ordenar el DataFrame según las descargas (Installs) en cada cuantil y categoría"
      ],
      "metadata": {
        "id": "IfkQetys_XCa"
      }
    },
    {
      "cell_type": "code",
      "source": [
        "sorted_df = google_play_data_cleaned.sort_values(by=['Quantile', 'Category', 'Installs'], ascending=[True, True, False])\n"
      ],
      "metadata": {
        "id": "O7UAnHcU_ZWX"
      },
      "execution_count": null,
      "outputs": []
    },
    {
      "cell_type": "code",
      "source": [
        "sorted_df[['Category', 'App', 'Installs', 'Quantile']]"
      ],
      "metadata": {
        "colab": {
          "base_uri": "https://localhost:8080/",
          "height": 423
        },
        "id": "NPGYiC1MBQVV",
        "outputId": "a18b896e-5fbc-42cb-dbd0-01604d95b6de"
      },
      "execution_count": null,
      "outputs": [
        {
          "output_type": "execute_result",
          "data": {
            "text/plain": [
              "            Category                                              App  \\\n",
              "7174  ART_AND_DESIGN                          Easy DIY CD Craft Ideas   \n",
              "8888  ART_AND_DESIGN          Spring flowers theme couleurs d t space   \n",
              "17    ART_AND_DESIGN                         350 Diy Room Decor Ideas   \n",
              "44    ART_AND_DESIGN      Popsicle Sticks and Similar DIY Craft Ideas   \n",
              "4193  ART_AND_DESIGN                                        صور حرف H   \n",
              "...              ...                                              ...   \n",
              "5768         WEATHER                                    Amber Weather   \n",
              "8291         WEATHER                   wetter.com - Weather and Radar   \n",
              "9562         WEATHER                                  Weather 14 Days   \n",
              "3627         WEATHER                                 Weather forecast   \n",
              "3653         WEATHER  Storm Radar: Tornado Tracker & Hurricane Alerts   \n",
              "\n",
              "         Installs Quantile  \n",
              "7174       5,000+       Q1  \n",
              "8888         100+       Q1  \n",
              "17        10,000+       Q1  \n",
              "44        10,000+       Q1  \n",
              "4193       1,000+       Q1  \n",
              "...           ...      ...  \n",
              "5768  10,000,000+       Q4  \n",
              "8291  10,000,000+       Q4  \n",
              "9562  10,000,000+       Q4  \n",
              "3627   1,000,000+       Q4  \n",
              "3653   1,000,000+       Q4  \n",
              "\n",
              "[10840 rows x 4 columns]"
            ],
            "text/html": [
              "\n",
              "  <div id=\"df-2fd94eab-bf21-41d1-9d49-28ad5675982d\" class=\"colab-df-container\">\n",
              "    <div>\n",
              "<style scoped>\n",
              "    .dataframe tbody tr th:only-of-type {\n",
              "        vertical-align: middle;\n",
              "    }\n",
              "\n",
              "    .dataframe tbody tr th {\n",
              "        vertical-align: top;\n",
              "    }\n",
              "\n",
              "    .dataframe thead th {\n",
              "        text-align: right;\n",
              "    }\n",
              "</style>\n",
              "<table border=\"1\" class=\"dataframe\">\n",
              "  <thead>\n",
              "    <tr style=\"text-align: right;\">\n",
              "      <th></th>\n",
              "      <th>Category</th>\n",
              "      <th>App</th>\n",
              "      <th>Installs</th>\n",
              "      <th>Quantile</th>\n",
              "    </tr>\n",
              "  </thead>\n",
              "  <tbody>\n",
              "    <tr>\n",
              "      <th>7174</th>\n",
              "      <td>ART_AND_DESIGN</td>\n",
              "      <td>Easy DIY CD Craft Ideas</td>\n",
              "      <td>5,000+</td>\n",
              "      <td>Q1</td>\n",
              "    </tr>\n",
              "    <tr>\n",
              "      <th>8888</th>\n",
              "      <td>ART_AND_DESIGN</td>\n",
              "      <td>Spring flowers theme couleurs d t space</td>\n",
              "      <td>100+</td>\n",
              "      <td>Q1</td>\n",
              "    </tr>\n",
              "    <tr>\n",
              "      <th>17</th>\n",
              "      <td>ART_AND_DESIGN</td>\n",
              "      <td>350 Diy Room Decor Ideas</td>\n",
              "      <td>10,000+</td>\n",
              "      <td>Q1</td>\n",
              "    </tr>\n",
              "    <tr>\n",
              "      <th>44</th>\n",
              "      <td>ART_AND_DESIGN</td>\n",
              "      <td>Popsicle Sticks and Similar DIY Craft Ideas</td>\n",
              "      <td>10,000+</td>\n",
              "      <td>Q1</td>\n",
              "    </tr>\n",
              "    <tr>\n",
              "      <th>4193</th>\n",
              "      <td>ART_AND_DESIGN</td>\n",
              "      <td>صور حرف H</td>\n",
              "      <td>1,000+</td>\n",
              "      <td>Q1</td>\n",
              "    </tr>\n",
              "    <tr>\n",
              "      <th>...</th>\n",
              "      <td>...</td>\n",
              "      <td>...</td>\n",
              "      <td>...</td>\n",
              "      <td>...</td>\n",
              "    </tr>\n",
              "    <tr>\n",
              "      <th>5768</th>\n",
              "      <td>WEATHER</td>\n",
              "      <td>Amber Weather</td>\n",
              "      <td>10,000,000+</td>\n",
              "      <td>Q4</td>\n",
              "    </tr>\n",
              "    <tr>\n",
              "      <th>8291</th>\n",
              "      <td>WEATHER</td>\n",
              "      <td>wetter.com - Weather and Radar</td>\n",
              "      <td>10,000,000+</td>\n",
              "      <td>Q4</td>\n",
              "    </tr>\n",
              "    <tr>\n",
              "      <th>9562</th>\n",
              "      <td>WEATHER</td>\n",
              "      <td>Weather 14 Days</td>\n",
              "      <td>10,000,000+</td>\n",
              "      <td>Q4</td>\n",
              "    </tr>\n",
              "    <tr>\n",
              "      <th>3627</th>\n",
              "      <td>WEATHER</td>\n",
              "      <td>Weather forecast</td>\n",
              "      <td>1,000,000+</td>\n",
              "      <td>Q4</td>\n",
              "    </tr>\n",
              "    <tr>\n",
              "      <th>3653</th>\n",
              "      <td>WEATHER</td>\n",
              "      <td>Storm Radar: Tornado Tracker &amp; Hurricane Alerts</td>\n",
              "      <td>1,000,000+</td>\n",
              "      <td>Q4</td>\n",
              "    </tr>\n",
              "  </tbody>\n",
              "</table>\n",
              "<p>10840 rows × 4 columns</p>\n",
              "</div>\n",
              "    <div class=\"colab-df-buttons\">\n",
              "\n",
              "  <div class=\"colab-df-container\">\n",
              "    <button class=\"colab-df-convert\" onclick=\"convertToInteractive('df-2fd94eab-bf21-41d1-9d49-28ad5675982d')\"\n",
              "            title=\"Convert this dataframe to an interactive table.\"\n",
              "            style=\"display:none;\">\n",
              "\n",
              "  <svg xmlns=\"http://www.w3.org/2000/svg\" height=\"24px\" viewBox=\"0 -960 960 960\">\n",
              "    <path d=\"M120-120v-720h720v720H120Zm60-500h600v-160H180v160Zm220 220h160v-160H400v160Zm0 220h160v-160H400v160ZM180-400h160v-160H180v160Zm440 0h160v-160H620v160ZM180-180h160v-160H180v160Zm440 0h160v-160H620v160Z\"/>\n",
              "  </svg>\n",
              "    </button>\n",
              "\n",
              "  <style>\n",
              "    .colab-df-container {\n",
              "      display:flex;\n",
              "      gap: 12px;\n",
              "    }\n",
              "\n",
              "    .colab-df-convert {\n",
              "      background-color: #E8F0FE;\n",
              "      border: none;\n",
              "      border-radius: 50%;\n",
              "      cursor: pointer;\n",
              "      display: none;\n",
              "      fill: #1967D2;\n",
              "      height: 32px;\n",
              "      padding: 0 0 0 0;\n",
              "      width: 32px;\n",
              "    }\n",
              "\n",
              "    .colab-df-convert:hover {\n",
              "      background-color: #E2EBFA;\n",
              "      box-shadow: 0px 1px 2px rgba(60, 64, 67, 0.3), 0px 1px 3px 1px rgba(60, 64, 67, 0.15);\n",
              "      fill: #174EA6;\n",
              "    }\n",
              "\n",
              "    .colab-df-buttons div {\n",
              "      margin-bottom: 4px;\n",
              "    }\n",
              "\n",
              "    [theme=dark] .colab-df-convert {\n",
              "      background-color: #3B4455;\n",
              "      fill: #D2E3FC;\n",
              "    }\n",
              "\n",
              "    [theme=dark] .colab-df-convert:hover {\n",
              "      background-color: #434B5C;\n",
              "      box-shadow: 0px 1px 3px 1px rgba(0, 0, 0, 0.15);\n",
              "      filter: drop-shadow(0px 1px 2px rgba(0, 0, 0, 0.3));\n",
              "      fill: #FFFFFF;\n",
              "    }\n",
              "  </style>\n",
              "\n",
              "    <script>\n",
              "      const buttonEl =\n",
              "        document.querySelector('#df-2fd94eab-bf21-41d1-9d49-28ad5675982d button.colab-df-convert');\n",
              "      buttonEl.style.display =\n",
              "        google.colab.kernel.accessAllowed ? 'block' : 'none';\n",
              "\n",
              "      async function convertToInteractive(key) {\n",
              "        const element = document.querySelector('#df-2fd94eab-bf21-41d1-9d49-28ad5675982d');\n",
              "        const dataTable =\n",
              "          await google.colab.kernel.invokeFunction('convertToInteractive',\n",
              "                                                    [key], {});\n",
              "        if (!dataTable) return;\n",
              "\n",
              "        const docLinkHtml = 'Like what you see? Visit the ' +\n",
              "          '<a target=\"_blank\" href=https://colab.research.google.com/notebooks/data_table.ipynb>data table notebook</a>'\n",
              "          + ' to learn more about interactive tables.';\n",
              "        element.innerHTML = '';\n",
              "        dataTable['output_type'] = 'display_data';\n",
              "        await google.colab.output.renderOutput(dataTable, element);\n",
              "        const docLink = document.createElement('div');\n",
              "        docLink.innerHTML = docLinkHtml;\n",
              "        element.appendChild(docLink);\n",
              "      }\n",
              "    </script>\n",
              "  </div>\n",
              "\n",
              "\n",
              "<div id=\"df-103d0543-075e-4ff6-af5c-1b6c17e3552f\">\n",
              "  <button class=\"colab-df-quickchart\" onclick=\"quickchart('df-103d0543-075e-4ff6-af5c-1b6c17e3552f')\"\n",
              "            title=\"Suggest charts.\"\n",
              "            style=\"display:none;\">\n",
              "\n",
              "<svg xmlns=\"http://www.w3.org/2000/svg\" height=\"24px\"viewBox=\"0 0 24 24\"\n",
              "     width=\"24px\">\n",
              "    <g>\n",
              "        <path d=\"M19 3H5c-1.1 0-2 .9-2 2v14c0 1.1.9 2 2 2h14c1.1 0 2-.9 2-2V5c0-1.1-.9-2-2-2zM9 17H7v-7h2v7zm4 0h-2V7h2v10zm4 0h-2v-4h2v4z\"/>\n",
              "    </g>\n",
              "</svg>\n",
              "  </button>\n",
              "\n",
              "<style>\n",
              "  .colab-df-quickchart {\n",
              "      --bg-color: #E8F0FE;\n",
              "      --fill-color: #1967D2;\n",
              "      --hover-bg-color: #E2EBFA;\n",
              "      --hover-fill-color: #174EA6;\n",
              "      --disabled-fill-color: #AAA;\n",
              "      --disabled-bg-color: #DDD;\n",
              "  }\n",
              "\n",
              "  [theme=dark] .colab-df-quickchart {\n",
              "      --bg-color: #3B4455;\n",
              "      --fill-color: #D2E3FC;\n",
              "      --hover-bg-color: #434B5C;\n",
              "      --hover-fill-color: #FFFFFF;\n",
              "      --disabled-bg-color: #3B4455;\n",
              "      --disabled-fill-color: #666;\n",
              "  }\n",
              "\n",
              "  .colab-df-quickchart {\n",
              "    background-color: var(--bg-color);\n",
              "    border: none;\n",
              "    border-radius: 50%;\n",
              "    cursor: pointer;\n",
              "    display: none;\n",
              "    fill: var(--fill-color);\n",
              "    height: 32px;\n",
              "    padding: 0;\n",
              "    width: 32px;\n",
              "  }\n",
              "\n",
              "  .colab-df-quickchart:hover {\n",
              "    background-color: var(--hover-bg-color);\n",
              "    box-shadow: 0 1px 2px rgba(60, 64, 67, 0.3), 0 1px 3px 1px rgba(60, 64, 67, 0.15);\n",
              "    fill: var(--button-hover-fill-color);\n",
              "  }\n",
              "\n",
              "  .colab-df-quickchart-complete:disabled,\n",
              "  .colab-df-quickchart-complete:disabled:hover {\n",
              "    background-color: var(--disabled-bg-color);\n",
              "    fill: var(--disabled-fill-color);\n",
              "    box-shadow: none;\n",
              "  }\n",
              "\n",
              "  .colab-df-spinner {\n",
              "    border: 2px solid var(--fill-color);\n",
              "    border-color: transparent;\n",
              "    border-bottom-color: var(--fill-color);\n",
              "    animation:\n",
              "      spin 1s steps(1) infinite;\n",
              "  }\n",
              "\n",
              "  @keyframes spin {\n",
              "    0% {\n",
              "      border-color: transparent;\n",
              "      border-bottom-color: var(--fill-color);\n",
              "      border-left-color: var(--fill-color);\n",
              "    }\n",
              "    20% {\n",
              "      border-color: transparent;\n",
              "      border-left-color: var(--fill-color);\n",
              "      border-top-color: var(--fill-color);\n",
              "    }\n",
              "    30% {\n",
              "      border-color: transparent;\n",
              "      border-left-color: var(--fill-color);\n",
              "      border-top-color: var(--fill-color);\n",
              "      border-right-color: var(--fill-color);\n",
              "    }\n",
              "    40% {\n",
              "      border-color: transparent;\n",
              "      border-right-color: var(--fill-color);\n",
              "      border-top-color: var(--fill-color);\n",
              "    }\n",
              "    60% {\n",
              "      border-color: transparent;\n",
              "      border-right-color: var(--fill-color);\n",
              "    }\n",
              "    80% {\n",
              "      border-color: transparent;\n",
              "      border-right-color: var(--fill-color);\n",
              "      border-bottom-color: var(--fill-color);\n",
              "    }\n",
              "    90% {\n",
              "      border-color: transparent;\n",
              "      border-bottom-color: var(--fill-color);\n",
              "    }\n",
              "  }\n",
              "</style>\n",
              "\n",
              "  <script>\n",
              "    async function quickchart(key) {\n",
              "      const quickchartButtonEl =\n",
              "        document.querySelector('#' + key + ' button');\n",
              "      quickchartButtonEl.disabled = true;  // To prevent multiple clicks.\n",
              "      quickchartButtonEl.classList.add('colab-df-spinner');\n",
              "      try {\n",
              "        const charts = await google.colab.kernel.invokeFunction(\n",
              "            'suggestCharts', [key], {});\n",
              "      } catch (error) {\n",
              "        console.error('Error during call to suggestCharts:', error);\n",
              "      }\n",
              "      quickchartButtonEl.classList.remove('colab-df-spinner');\n",
              "      quickchartButtonEl.classList.add('colab-df-quickchart-complete');\n",
              "    }\n",
              "    (() => {\n",
              "      let quickchartButtonEl =\n",
              "        document.querySelector('#df-103d0543-075e-4ff6-af5c-1b6c17e3552f button');\n",
              "      quickchartButtonEl.style.display =\n",
              "        google.colab.kernel.accessAllowed ? 'block' : 'none';\n",
              "    })();\n",
              "  </script>\n",
              "</div>\n",
              "    </div>\n",
              "  </div>\n"
            ]
          },
          "metadata": {},
          "execution_count": 8
        }
      ]
    },
    {
      "cell_type": "markdown",
      "source": [
        "Este ejercicio me causo mucha confusion y dudas, la unica forma que se me ocurrio de corroboarlo es viendo las apps \"mas populares\" (WhatsApp,Gmail,Facebook, etc) y ver que hallan caido en Q4"
      ],
      "metadata": {
        "id": "BFwuF2rvBSSh"
      }
    }
  ]
}