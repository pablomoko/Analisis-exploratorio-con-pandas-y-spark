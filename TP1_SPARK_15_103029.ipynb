{
  "nbformat": 4,
  "nbformat_minor": 0,
  "metadata": {
    "colab": {
      "provenance": []
    },
    "kernelspec": {
      "name": "python3",
      "display_name": "Python 3"
    },
    "language_info": {
      "name": "python"
    }
  },
  "cells": [
    {
      "cell_type": "code",
      "source": [
        "!pip install pyspark\n",
        "!pip install -U -q PyDrive\n",
        "!apt install openjdk-8-jdk-headless -qq\n",
        "import os\n",
        "os.environ[\"JAVA_HOME\"] = \"/usr/lib/jvm/java-8-openjdk-amd64\""
      ],
      "metadata": {
        "id": "uEERvWu7kaxh",
        "colab": {
          "base_uri": "https://localhost:8080/"
        },
        "outputId": "1b9a41f4-8fb9-449e-dc35-3fefc91188b7"
      },
      "execution_count": null,
      "outputs": [
        {
          "output_type": "stream",
          "name": "stdout",
          "text": [
            "Requirement already satisfied: pyspark in /usr/local/lib/python3.10/dist-packages (3.5.0)\n",
            "Requirement already satisfied: py4j==0.10.9.7 in /usr/local/lib/python3.10/dist-packages (from pyspark) (0.10.9.7)\n",
            "openjdk-8-jdk-headless is already the newest version (8u382-ga-1~22.04.1).\n",
            "0 upgraded, 0 newly installed, 0 to remove and 18 not upgraded.\n"
          ]
        }
      ]
    },
    {
      "cell_type": "code",
      "source": [
        "# Librerias\n",
        "from pydrive.auth import GoogleAuth\n",
        "from pydrive.drive import GoogleDrive\n",
        "from google.colab import auth\n",
        "from oauth2client.client import GoogleCredentials\n",
        "from pyspark.sql import *\n",
        "from pyspark.sql.functions import *\n",
        "from pyspark import SparkContext\n",
        "from pyspark.sql import SQLContext\n",
        "import pandas as pd"
      ],
      "metadata": {
        "id": "DNtIcdVxkyEZ"
      },
      "execution_count": null,
      "outputs": []
    },
    {
      "cell_type": "code",
      "execution_count": null,
      "metadata": {
        "id": "A0fJESfpqWD0",
        "colab": {
          "base_uri": "https://localhost:8080/"
        },
        "outputId": "d802ea1f-868d-4717-cac4-6d4495421aa4"
      },
      "outputs": [
        {
          "output_type": "stream",
          "name": "stdout",
          "text": [
            "Drive already mounted at /content/drive; to attempt to forcibly remount, call drive.mount(\"/content/drive\", force_remount=True).\n"
          ]
        }
      ],
      "source": [
        "# Carga de datos\n",
        "from google.colab import drive\n",
        "drive.mount(\"/content/drive\")\n",
        "file_path = \"/content/drive/MyDrive/TP 1 - ORGANIZACIÓN DE DATOS/googleplaystore.csv\"\n",
        "reviews_file_path = \"/content/drive/MyDrive/TP 1 - ORGANIZACIÓN DE DATOS/googleplaystore_user_reviews.csv\"\n"
      ]
    },
    {
      "cell_type": "code",
      "source": [
        "# create the Spark Session\n",
        "spark = SparkSession.builder.getOrCreate()\n",
        "\n",
        "# create the Spark Context\n",
        "sc = spark.sparkContext"
      ],
      "metadata": {
        "id": "1C7Wodm7lcof"
      },
      "execution_count": null,
      "outputs": []
    },
    {
      "cell_type": "code",
      "source": [
        "sqlContext = SQLContext(sc)\n",
        "google_play_data = sqlContext.read.option(\"delimiter\", \",\").option(\"escape\", '\"').csv(file_path, header=True, inferSchema=True)\n",
        "user_reviews_data = sqlContext.read.option(\"delimiter\", \",\").option(\"escape\", '\"').csv(reviews_file_path, header=True, inferSchema=True)\n",
        "google_play_data = google_play_data.rdd\n",
        "user_reviews_data = user_reviews_data.rdd\n",
        "# Filtra las filas en las que la categoría no sea \"1.9\" y crea un nuevo RDD sin esa fila\n",
        "google_play_data = google_play_data.filter(lambda x: x['Category'] != \"1.9\")\n"
      ],
      "metadata": {
        "id": "K7lNllUvlqBg"
      },
      "execution_count": null,
      "outputs": []
    },
    {
      "cell_type": "markdown",
      "source": [
        "# 15 - Calcular el promedio de rating por tipo de App.(⭐⭐)"
      ],
      "metadata": {
        "id": "OkHyZDASDhWe"
      }
    },
    {
      "cell_type": "markdown",
      "source": [
        "Filtrar las filas con calificaciones no válidas (NaN) en la columna \"Rating\""
      ],
      "metadata": {
        "id": "RBbYIYDaDnF4"
      }
    },
    {
      "cell_type": "code",
      "source": [
        "filtered_rdd = google_play_data.filter(lambda x: str(x['Rating']) != 'nan')"
      ],
      "metadata": {
        "id": "JsWOVjWuDiEl"
      },
      "execution_count": null,
      "outputs": []
    },
    {
      "cell_type": "markdown",
      "source": [
        "Filtrar las filas con valor válido en la columna \"Type\""
      ],
      "metadata": {
        "id": "Cm2uSbwrDiKx"
      }
    },
    {
      "cell_type": "code",
      "source": [
        "filtered_rdd = filtered_rdd.filter(lambda x: x['Type'] in [\"Free\", \"Paid\"])"
      ],
      "metadata": {
        "id": "UOVmDHG0DiSG"
      },
      "execution_count": null,
      "outputs": []
    },
    {
      "cell_type": "markdown",
      "source": [
        "Mapear el RDD para crear pares clave-valor donde la clave es el tipo de aplicación y el valor es la calificación"
      ],
      "metadata": {
        "id": "gilt_oD8Diec"
      }
    },
    {
      "cell_type": "code",
      "source": [
        "rating_by_type = filtered_rdd.map(lambda x: (x['Type'] , float(x['Rating'])))"
      ],
      "metadata": {
        "id": "9Z2EgZnPDioJ"
      },
      "execution_count": null,
      "outputs": []
    },
    {
      "cell_type": "markdown",
      "source": [
        "Reducir el RDD para calcular el promedio de calificaciones por tipo de aplicación"
      ],
      "metadata": {
        "id": "5_1l0w_XDiuv"
      }
    },
    {
      "cell_type": "code",
      "source": [
        "sum_ratings_by_type = rating_by_type.reduceByKey(lambda x, y:x + y )\n"
      ],
      "metadata": {
        "id": "qZ32ijFZDiyz"
      },
      "execution_count": null,
      "outputs": []
    },
    {
      "cell_type": "markdown",
      "source": [
        "Ver cuantas aplicaciones hay por tipo"
      ],
      "metadata": {
        "id": "CA2Bx5_rEgiZ"
      }
    },
    {
      "cell_type": "code",
      "source": [
        "count_by_type = rating_by_type.countByKey()"
      ],
      "metadata": {
        "id": "lHAcCnQcEgrW"
      },
      "execution_count": null,
      "outputs": []
    },
    {
      "cell_type": "markdown",
      "source": [
        "Calcular el promedio dividiendo la suma total de calificaciones por el número total de calificaciones"
      ],
      "metadata": {
        "id": "Yxcpk-EEEgyn"
      }
    },
    {
      "cell_type": "code",
      "source": [
        "average_ratings_by_type = sum_ratings_by_type.map(lambda x: (x[0], x[1] / count_by_type[x[0]]))"
      ],
      "metadata": {
        "id": "mRb9DZy4Eg6M"
      },
      "execution_count": null,
      "outputs": []
    },
    {
      "cell_type": "code",
      "source": [
        "average_ratings_by_type.collect()"
      ],
      "metadata": {
        "colab": {
          "base_uri": "https://localhost:8080/"
        },
        "id": "RXnWB7phHgFU",
        "outputId": "e2f65beb-a1e5-45ff-9815-24f54c5bccd1"
      },
      "execution_count": null,
      "outputs": [
        {
          "output_type": "execute_result",
          "data": {
            "text/plain": [
              "[('Free', 4.186202546163562), ('Paid', 4.266615146831529)]"
            ]
          },
          "metadata": {},
          "execution_count": 26
        }
      ]
    }
  ]
}