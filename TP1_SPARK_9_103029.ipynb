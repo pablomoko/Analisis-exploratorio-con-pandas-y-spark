{
  "nbformat": 4,
  "nbformat_minor": 0,
  "metadata": {
    "colab": {
      "provenance": []
    },
    "kernelspec": {
      "name": "python3",
      "display_name": "Python 3"
    },
    "language_info": {
      "name": "python"
    }
  },
  "cells": [
    {
      "cell_type": "code",
      "source": [
        "!pip install pyspark\n",
        "!pip install -U -q PyDrive\n",
        "!apt install openjdk-8-jdk-headless -qq\n",
        "import os\n",
        "os.environ[\"JAVA_HOME\"] = \"/usr/lib/jvm/java-8-openjdk-amd64\""
      ],
      "metadata": {
        "id": "uEERvWu7kaxh",
        "colab": {
          "base_uri": "https://localhost:8080/"
        },
        "outputId": "6921a286-6ecb-41b3-ca74-698663a89e9f"
      },
      "execution_count": null,
      "outputs": [
        {
          "output_type": "stream",
          "name": "stdout",
          "text": [
            "Collecting pyspark\n",
            "  Downloading pyspark-3.5.0.tar.gz (316.9 MB)\n",
            "\u001b[2K     \u001b[90m━━━━━━━━━━━━━━━━━━━━━━━━━━━━━━━━━━━━━━━\u001b[0m \u001b[32m316.9/316.9 MB\u001b[0m \u001b[31m2.2 MB/s\u001b[0m eta \u001b[36m0:00:00\u001b[0m\n",
            "\u001b[?25h  Preparing metadata (setup.py) ... \u001b[?25l\u001b[?25hdone\n",
            "Requirement already satisfied: py4j==0.10.9.7 in /usr/local/lib/python3.10/dist-packages (from pyspark) (0.10.9.7)\n",
            "Building wheels for collected packages: pyspark\n",
            "  Building wheel for pyspark (setup.py) ... \u001b[?25l\u001b[?25hdone\n",
            "  Created wheel for pyspark: filename=pyspark-3.5.0-py2.py3-none-any.whl size=317425344 sha256=8ba3403e48c1a49154316622084b6ddaa7aa843eb883479b68a0f9cc7910d87e\n",
            "  Stored in directory: /root/.cache/pip/wheels/41/4e/10/c2cf2467f71c678cfc8a6b9ac9241e5e44a01940da8fbb17fc\n",
            "Successfully built pyspark\n",
            "Installing collected packages: pyspark\n",
            "Successfully installed pyspark-3.5.0\n",
            "The following additional packages will be installed:\n",
            "  libxtst6 openjdk-8-jre-headless\n",
            "Suggested packages:\n",
            "  openjdk-8-demo openjdk-8-source libnss-mdns fonts-dejavu-extra fonts-nanum\n",
            "  fonts-ipafont-gothic fonts-ipafont-mincho fonts-wqy-microhei\n",
            "  fonts-wqy-zenhei fonts-indic\n",
            "The following NEW packages will be installed:\n",
            "  libxtst6 openjdk-8-jdk-headless openjdk-8-jre-headless\n",
            "0 upgraded, 3 newly installed, 0 to remove and 18 not upgraded.\n",
            "Need to get 39.7 MB of archives.\n",
            "After this operation, 144 MB of additional disk space will be used.\n",
            "Selecting previously unselected package libxtst6:amd64.\n",
            "(Reading database ... 120875 files and directories currently installed.)\n",
            "Preparing to unpack .../libxtst6_2%3a1.2.3-1build4_amd64.deb ...\n",
            "Unpacking libxtst6:amd64 (2:1.2.3-1build4) ...\n",
            "Selecting previously unselected package openjdk-8-jre-headless:amd64.\n",
            "Preparing to unpack .../openjdk-8-jre-headless_8u382-ga-1~22.04.1_amd64.deb ...\n",
            "Unpacking openjdk-8-jre-headless:amd64 (8u382-ga-1~22.04.1) ...\n",
            "Selecting previously unselected package openjdk-8-jdk-headless:amd64.\n",
            "Preparing to unpack .../openjdk-8-jdk-headless_8u382-ga-1~22.04.1_amd64.deb ...\n",
            "Unpacking openjdk-8-jdk-headless:amd64 (8u382-ga-1~22.04.1) ...\n",
            "Setting up libxtst6:amd64 (2:1.2.3-1build4) ...\n",
            "Setting up openjdk-8-jre-headless:amd64 (8u382-ga-1~22.04.1) ...\n",
            "update-alternatives: using /usr/lib/jvm/java-8-openjdk-amd64/jre/bin/orbd to provide /usr/bin/orbd (orbd) in auto mode\n",
            "update-alternatives: using /usr/lib/jvm/java-8-openjdk-amd64/jre/bin/servertool to provide /usr/bin/servertool (servertool) in auto mode\n",
            "update-alternatives: using /usr/lib/jvm/java-8-openjdk-amd64/jre/bin/tnameserv to provide /usr/bin/tnameserv (tnameserv) in auto mode\n",
            "Setting up openjdk-8-jdk-headless:amd64 (8u382-ga-1~22.04.1) ...\n",
            "update-alternatives: using /usr/lib/jvm/java-8-openjdk-amd64/bin/clhsdb to provide /usr/bin/clhsdb (clhsdb) in auto mode\n",
            "update-alternatives: using /usr/lib/jvm/java-8-openjdk-amd64/bin/extcheck to provide /usr/bin/extcheck (extcheck) in auto mode\n",
            "update-alternatives: using /usr/lib/jvm/java-8-openjdk-amd64/bin/hsdb to provide /usr/bin/hsdb (hsdb) in auto mode\n",
            "update-alternatives: using /usr/lib/jvm/java-8-openjdk-amd64/bin/idlj to provide /usr/bin/idlj (idlj) in auto mode\n",
            "update-alternatives: using /usr/lib/jvm/java-8-openjdk-amd64/bin/javah to provide /usr/bin/javah (javah) in auto mode\n",
            "update-alternatives: using /usr/lib/jvm/java-8-openjdk-amd64/bin/jhat to provide /usr/bin/jhat (jhat) in auto mode\n",
            "update-alternatives: using /usr/lib/jvm/java-8-openjdk-amd64/bin/jsadebugd to provide /usr/bin/jsadebugd (jsadebugd) in auto mode\n",
            "update-alternatives: using /usr/lib/jvm/java-8-openjdk-amd64/bin/native2ascii to provide /usr/bin/native2ascii (native2ascii) in auto mode\n",
            "update-alternatives: using /usr/lib/jvm/java-8-openjdk-amd64/bin/schemagen to provide /usr/bin/schemagen (schemagen) in auto mode\n",
            "update-alternatives: using /usr/lib/jvm/java-8-openjdk-amd64/bin/wsgen to provide /usr/bin/wsgen (wsgen) in auto mode\n",
            "update-alternatives: using /usr/lib/jvm/java-8-openjdk-amd64/bin/wsimport to provide /usr/bin/wsimport (wsimport) in auto mode\n",
            "update-alternatives: using /usr/lib/jvm/java-8-openjdk-amd64/bin/xjc to provide /usr/bin/xjc (xjc) in auto mode\n",
            "Processing triggers for libc-bin (2.35-0ubuntu3.1) ...\n",
            "/sbin/ldconfig.real: /usr/local/lib/libtbbmalloc.so.2 is not a symbolic link\n",
            "\n",
            "/sbin/ldconfig.real: /usr/local/lib/libtbbmalloc_proxy.so.2 is not a symbolic link\n",
            "\n",
            "/sbin/ldconfig.real: /usr/local/lib/libtbbbind_2_0.so.3 is not a symbolic link\n",
            "\n",
            "/sbin/ldconfig.real: /usr/local/lib/libtbbbind_2_5.so.3 is not a symbolic link\n",
            "\n",
            "/sbin/ldconfig.real: /usr/local/lib/libtbbbind.so.3 is not a symbolic link\n",
            "\n",
            "/sbin/ldconfig.real: /usr/local/lib/libtbb.so.12 is not a symbolic link\n",
            "\n"
          ]
        }
      ]
    },
    {
      "cell_type": "code",
      "source": [
        "# Librerias\n",
        "from pydrive.auth import GoogleAuth\n",
        "from pydrive.drive import GoogleDrive\n",
        "from google.colab import auth\n",
        "from oauth2client.client import GoogleCredentials\n",
        "from pyspark.sql import *\n",
        "from pyspark.sql.functions import *\n",
        "from pyspark import SparkContext\n",
        "from pyspark.sql import SQLContext\n",
        "import pandas as pd"
      ],
      "metadata": {
        "id": "DNtIcdVxkyEZ"
      },
      "execution_count": null,
      "outputs": []
    },
    {
      "cell_type": "code",
      "execution_count": null,
      "metadata": {
        "colab": {
          "base_uri": "https://localhost:8080/"
        },
        "id": "A0fJESfpqWD0",
        "outputId": "f398e596-7ef4-4466-848a-c3b01371c084"
      },
      "outputs": [
        {
          "output_type": "stream",
          "name": "stdout",
          "text": [
            "Mounted at /content/drive\n"
          ]
        }
      ],
      "source": [
        "# Carga de datos\n",
        "from google.colab import drive\n",
        "drive.mount(\"/content/drive\")\n",
        "file_path = \"/content/drive/MyDrive/TP 1 - ORGANIZACIÓN DE DATOS/googleplaystore.csv\"\n",
        "reviews_file_path = \"/content/drive/MyDrive/TP 1 - ORGANIZACIÓN DE DATOS/googleplaystore_user_reviews.csv\"\n"
      ]
    },
    {
      "cell_type": "code",
      "source": [
        "# create the Spark Session\n",
        "spark = SparkSession.builder.getOrCreate()\n",
        "\n",
        "# create the Spark Context\n",
        "sc = spark.sparkContext"
      ],
      "metadata": {
        "id": "1C7Wodm7lcof"
      },
      "execution_count": null,
      "outputs": []
    },
    {
      "cell_type": "code",
      "source": [
        "sqlContext = SQLContext(sc)\n",
        "google_play_data = sqlContext.read.option(\"delimiter\", \",\").option(\"escape\", '\"').csv(file_path, header=True, inferSchema=True)\n",
        "user_reviews_data = sqlContext.read.option(\"delimiter\", \",\").option(\"escape\", '\"').csv(reviews_file_path, header=True, inferSchema=True)\n",
        "google_play_data = google_play_data.rdd\n",
        "user_reviews_data = user_reviews_data.rdd\n",
        "# Filtra las filas en las que la categoría no sea \"1.9\" y crea un nuevo RDD sin esa fila\n",
        "google_play_data = google_play_data.filter(lambda x: x['Category'] != \"1.9\")\n"
      ],
      "metadata": {
        "id": "K7lNllUvlqBg",
        "colab": {
          "base_uri": "https://localhost:8080/"
        },
        "outputId": "d7ee3b1d-fe37-4d53-b8ec-d408bd00bab4"
      },
      "execution_count": null,
      "outputs": [
        {
          "output_type": "stream",
          "name": "stderr",
          "text": [
            "/usr/local/lib/python3.10/dist-packages/pyspark/sql/context.py:113: FutureWarning: Deprecated in 3.0.0. Use SparkSession.builder.getOrCreate() instead.\n",
            "  warnings.warn(\n"
          ]
        }
      ]
    },
    {
      "cell_type": "markdown",
      "source": [
        "# 9 - Cual es la app más cara de cada categoría (⭐)"
      ],
      "metadata": {
        "id": "OkHyZDASDhWe"
      }
    },
    {
      "cell_type": "markdown",
      "source": [
        "Filtrar las filas en las que el tipo no sea 'Free'"
      ],
      "metadata": {
        "id": "RBbYIYDaDnF4"
      }
    },
    {
      "cell_type": "code",
      "source": [
        "filtered_rdd = google_play_data.filter(lambda x: x['Type'] != \"Free\")"
      ],
      "metadata": {
        "id": "JsWOVjWuDiEl"
      },
      "execution_count": null,
      "outputs": []
    },
    {
      "cell_type": "markdown",
      "source": [
        "Mapear cada aplicación con su categoría como clave"
      ],
      "metadata": {
        "id": "Cm2uSbwrDiKx"
      }
    },
    {
      "cell_type": "code",
      "source": [
        "key_value_rdd = filtered_rdd.map(lambda x: (x['Category'], x))"
      ],
      "metadata": {
        "id": "UOVmDHG0DiSG"
      },
      "execution_count": null,
      "outputs": []
    },
    {
      "cell_type": "markdown",
      "source": [
        "Definir una función para encontrar la aplicación con el precio máximo"
      ],
      "metadata": {
        "id": "gilt_oD8Diec"
      }
    },
    {
      "cell_type": "code",
      "source": [
        "def max_price_app(app1, app2):\n",
        "    price1 = float(app1['Price'].replace('$', ''))\n",
        "    price2 = float(app2['Price'].replace('$', ''))\n",
        "    return app1 if price1 >= price2 else app2"
      ],
      "metadata": {
        "id": "9Z2EgZnPDioJ"
      },
      "execution_count": null,
      "outputs": []
    },
    {
      "cell_type": "markdown",
      "source": [
        "Usar reduceByKey para encontrar la aplicación más cara en cada categoría y map para darle formato al RDD que muestra el resultado"
      ],
      "metadata": {
        "id": "5_1l0w_XDiuv"
      }
    },
    {
      "cell_type": "code",
      "source": [
        "result_rdd = key_value_rdd.reduceByKey(max_price_app).map(lambda x: (x[0], (x[1]['App'], x[1]['Price'])))"
      ],
      "metadata": {
        "id": "qZ32ijFZDiyz"
      },
      "execution_count": null,
      "outputs": []
    },
    {
      "cell_type": "code",
      "source": [
        "result_rdd.collect()"
      ],
      "metadata": {
        "colab": {
          "base_uri": "https://localhost:8080/"
        },
        "id": "SRXqGEgGD5Bg",
        "outputId": "3414ae29-192a-48e9-af0f-ebd42719a119"
      },
      "execution_count": null,
      "outputs": [
        {
          "output_type": "execute_result",
          "data": {
            "text/plain": [
              "[('BUSINESS', ('Lean EQ', '$89.99')),\n",
              " ('COMMUNICATION', ('Z PIVOT', '$19.99')),\n",
              " ('DATING', ('AMBW Dating App: Asian Men Black Women Interracial', '$7.99')),\n",
              " ('EDUCATION', ('Fuzzy Numbers: Pre-K Number Foundation', '$5.99')),\n",
              " ('ENTERTAINMENT', ('My Talking Pet', '$4.99')),\n",
              " ('FOOD_AND_DRINK', ('Paprika Recipe Manager', '$4.99')),\n",
              " ('HEALTH_AND_FITNESS', ('Vital Tones EI Pro', '$9.99')),\n",
              " ('GAME', ('The World Ends With You', '$17.99')),\n",
              " ('FAMILY', ('most expensive app (H)', '$399.99')),\n",
              " ('MEDICAL', ('EP Cook Book', '$200.00')),\n",
              " ('PHOTOGRAPHY', ('Guide to Nikon Df', '$29.99')),\n",
              " ('SPORTS', ('Golfshot Plus: Golf GPS', '$29.99')),\n",
              " ('PERSONALIZATION', ('BIG Launcher', '$9.99')),\n",
              " ('PRODUCTIVITY', ('cronometra-br', '$154.99')),\n",
              " ('WEATHER', ('Florida Tides & Weather', '$6.99')),\n",
              " ('TOOLS', ('G-NetReport Pro', '$25.99')),\n",
              " ('TRAVEL_AND_LOCAL', ('Maps & GPS Navigation OsmAnd+', '$8.99')),\n",
              " ('LIFESTYLE', (\"I'm Rich - Trump Edition\", '$400.00')),\n",
              " ('AUTO_AND_VEHICLES', ('FORD V SERIES CALC - NO LIMIT', '$9.99')),\n",
              " ('NEWS_AND_MAGAZINES', ('Égalité et Réconciliation', '$2.99')),\n",
              " ('SHOPPING', ('Penny Finder', '$2.99')),\n",
              " ('BOOKS_AND_REFERENCE', ('FN pistol model 1903 explained', '$6.49')),\n",
              " ('SOCIAL', ('Ak Parti Yardım Toplama', '$13.99')),\n",
              " ('ART_AND_DESIGN',\n",
              "  ('X Launcher Pro: PhoneX Theme, OS11 Control Center', '$1.99')),\n",
              " ('VIDEO_PLAYERS', ('BSPlayer', '$5.99')),\n",
              " ('FINANCE', ('I Am Rich Premium', '$399.99')),\n",
              " ('MAPS_AND_NAVIGATION', ('BackCountry Navigator TOPO GPS PRO', '$11.99')),\n",
              " ('PARENTING', ('Baby Connect (activity log)', '$4.99')),\n",
              " ('LIBRARIES_AND_DEMO', ('Socle Commun BO du 23-04-2015', '$0.99')),\n",
              " ('EVENTS', ('BP Fitness Lead Scanner', '$109.99'))]"
            ]
          },
          "metadata": {},
          "execution_count": 10
        }
      ]
    }
  ]
}