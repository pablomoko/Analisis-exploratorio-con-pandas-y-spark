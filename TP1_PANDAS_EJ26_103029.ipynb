{
  "nbformat": 4,
  "nbformat_minor": 0,
  "metadata": {
    "colab": {
      "provenance": []
    },
    "kernelspec": {
      "name": "python3",
      "display_name": "Python 3"
    },
    "language_info": {
      "name": "python"
    }
  },
  "cells": [
    {
      "cell_type": "code",
      "execution_count": null,
      "metadata": {
        "colab": {
          "base_uri": "https://localhost:8080/"
        },
        "id": "FeA1B1H18VTD",
        "outputId": "ea350f46-8c2f-4553-b402-a0455249e0b6"
      },
      "outputs": [
        {
          "output_type": "stream",
          "name": "stdout",
          "text": [
            "Mounted at /content/drive\n"
          ]
        }
      ],
      "source": [
        "# Librerias\n",
        "import pandas as pd\n",
        "import matplotlib.pyplot as plt\n",
        "import seaborn as sns\n",
        "import seaborn as sns\n",
        "\n",
        "# Carga de datos\n",
        "from google.colab import drive\n",
        "drive.mount(\"/content/drive\")\n",
        "file_path = \"/content/drive/MyDrive/TP 1 - ORGANIZACIÓN DE DATOS/googleplaystore.csv\"\n",
        "google_play_data = pd.read_csv(file_path).drop(10472) #elimino fila 10472, ya que tiene una categoria no existente ('1.9')\n",
        "reviews_file_path = \"/content/drive/MyDrive/TP 1 - ORGANIZACIÓN DE DATOS/googleplaystore_user_reviews.csv\"\n",
        "user_reviews_data = pd.read_csv(reviews_file_path)"
      ]
    },
    {
      "cell_type": "markdown",
      "source": [
        "# 26 - Indicar el top 3 de generos con mayor cantidad de reviews. (⭐⭐)\n"
      ],
      "metadata": {
        "id": "R6xtyFDE8nd9"
      }
    },
    {
      "cell_type": "markdown",
      "source": [
        "Eliminar las filas con valores nulos en la columna 'Reviews'\n",
        "\n",
        "\n"
      ],
      "metadata": {
        "id": "1BDDxdZF8ziJ"
      }
    },
    {
      "cell_type": "code",
      "source": [
        "google_play_data_cleaned = google_play_data.dropna(subset=['Reviews'])"
      ],
      "metadata": {
        "id": "_eteLj8H8ZYL"
      },
      "execution_count": null,
      "outputs": []
    },
    {
      "cell_type": "markdown",
      "source": [
        "Convertir la columna 'Reviews' en tipo numerico por si algun dato esta mal ingresado."
      ],
      "metadata": {
        "id": "hzBsYTkc85ON"
      }
    },
    {
      "cell_type": "code",
      "source": [
        "google_play_data_cleaned['Reviews'] = pd.to_numeric(google_play_data_cleaned['Reviews'], errors='coerce')"
      ],
      "metadata": {
        "id": "imAbIxGu8Zg1"
      },
      "execution_count": null,
      "outputs": []
    },
    {
      "cell_type": "markdown",
      "source": [
        "Dividir aplicaciones con múltiples géneros en filas duplicadas\n",
        "Al ver que  varias apps tenian multiples generos, decidi dividirlas en generos separados y rearmar el df.\n",
        "Por ejemplo si un app pertener al genero Health & Fitness;Education, entonce esa app luego de este split pertenecera a Health & Fitness y Education por separado."
      ],
      "metadata": {
        "id": "2tUKZzmR9EeU"
      }
    },
    {
      "cell_type": "code",
      "source": [
        "apps_with_multiple_genres = google_play_data_cleaned[google_play_data_cleaned['Genres'].str.contains(';')]\n",
        "split_apps = apps_with_multiple_genres.assign(Genres=apps_with_multiple_genres['Genres'].str.split(';')).explode('Genres')"
      ],
      "metadata": {
        "id": "WzVTOBqH8tyk"
      },
      "execution_count": null,
      "outputs": []
    },
    {
      "cell_type": "markdown",
      "source": [
        "Concatenar las filas divididas con las originales"
      ],
      "metadata": {
        "id": "iGH5uZg6_UCF"
      }
    },
    {
      "cell_type": "code",
      "source": [
        "google_play_data_cleaned = pd.concat([google_play_data_cleaned[~google_play_data_cleaned.index.isin(split_apps.index)], split_apps])"
      ],
      "metadata": {
        "id": "3gB9cBoC-Tg3"
      },
      "execution_count": null,
      "outputs": []
    },
    {
      "cell_type": "markdown",
      "source": [
        "Agrupar por 'Genres' y sumar las reseñas para cada grupo"
      ],
      "metadata": {
        "id": "-ajfghtr_VAV"
      }
    },
    {
      "cell_type": "code",
      "source": [
        "genres_reviews = google_play_data_cleaned.groupby('Genres')['Reviews'].sum()"
      ],
      "metadata": {
        "id": "il5bslSk_Wli"
      },
      "execution_count": null,
      "outputs": []
    },
    {
      "cell_type": "markdown",
      "source": [
        "Ordenar en orden descendente y tomar los tres primeros géneros"
      ],
      "metadata": {
        "id": "IfkQetys_XCa"
      }
    },
    {
      "cell_type": "code",
      "source": [
        "top_3_genres_reviews = genres_reviews.sort_values(ascending=False).head(3)"
      ],
      "metadata": {
        "id": "O7UAnHcU_ZWX"
      },
      "execution_count": null,
      "outputs": []
    },
    {
      "cell_type": "code",
      "source": [
        "top_3_genres_reviews"
      ],
      "metadata": {
        "colab": {
          "base_uri": "https://localhost:8080/"
        },
        "id": "tPFdHh3U_Zhf",
        "outputId": "a48322b5-91a2-45dd-e851-c86c28a44280"
      },
      "execution_count": null,
      "outputs": [
        {
          "output_type": "execute_result",
          "data": {
            "text/plain": [
              "Genres\n",
              "Communication    815465738\n",
              "Social           621241422\n",
              "Casual           458699110\n",
              "Name: Reviews, dtype: int64"
            ]
          },
          "metadata": {},
          "execution_count": 8
        }
      ]
    }
  ]
}